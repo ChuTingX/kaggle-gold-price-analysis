{
  "nbformat": 4,
  "nbformat_minor": 0,
  "metadata": {
    "colab": {
      "provenance": [],
      "authorship_tag": "ABX9TyNvE2PayKY3eKbxYqguTTVg",
      "include_colab_link": true
    },
    "kernelspec": {
      "name": "python3",
      "display_name": "Python 3"
    },
    "language_info": {
      "name": "python"
    }
  },
  "cells": [
    {
      "cell_type": "markdown",
      "metadata": {
        "id": "view-in-github",
        "colab_type": "text"
      },
      "source": [
        "<a href=\"https://colab.research.google.com/github/luck058/kaggle-gold-price-analysis/blob/main/kaggle_gold_price_analysis.ipynb\" target=\"_parent\"><img src=\"https://colab.research.google.com/assets/colab-badge.svg\" alt=\"Open In Colab\"/></a>"
      ]
    },
    {
      "cell_type": "markdown",
      "source": [
        "# Setup"
      ],
      "metadata": {
        "id": "lpXM1NfQxWtA"
      }
    },
    {
      "cell_type": "markdown",
      "source": [
        "## Imports"
      ],
      "metadata": {
        "id": "LdK0lD55xZv6"
      }
    },
    {
      "cell_type": "code",
      "source": [
        "import pandas as pd\n"
      ],
      "metadata": {
        "id": "hkpWBAFyxWEX"
      },
      "execution_count": null,
      "outputs": []
    },
    {
      "cell_type": "markdown",
      "source": [
        "## Load data from github"
      ],
      "metadata": {
        "id": "6fNEX8Ebxbqv"
      }
    },
    {
      "cell_type": "code",
      "source": [
        "!git clone https://github.com/luck058/kaggle-gold-price-analysis"
      ],
      "metadata": {
        "id": "0mcZqfkCwufR",
        "outputId": "934b4ec0-48b6-4097-e0e5-35bb9ba56820",
        "colab": {
          "base_uri": "https://localhost:8080/"
        }
      },
      "execution_count": 8,
      "outputs": [
        {
          "output_type": "stream",
          "name": "stdout",
          "text": [
            "Cloning into 'kaggle-gold-price-analysis'...\n",
            "remote: Enumerating objects: 9, done.\u001b[K\n",
            "remote: Counting objects:  11% (1/9)\u001b[K\rremote: Counting objects:  22% (2/9)\u001b[K\rremote: Counting objects:  33% (3/9)\u001b[K\rremote: Counting objects:  44% (4/9)\u001b[K\rremote: Counting objects:  55% (5/9)\u001b[K\rremote: Counting objects:  66% (6/9)\u001b[K\rremote: Counting objects:  77% (7/9)\u001b[K\rremote: Counting objects:  88% (8/9)\u001b[K\rremote: Counting objects: 100% (9/9)\u001b[K\rremote: Counting objects: 100% (9/9), done.\u001b[K\n",
            "remote: Compressing objects:  12% (1/8)\u001b[K\rremote: Compressing objects:  25% (2/8)\u001b[K\rremote: Compressing objects:  37% (3/8)\u001b[K\rremote: Compressing objects:  50% (4/8)\u001b[K\rremote: Compressing objects:  62% (5/8)\u001b[K\rremote: Compressing objects:  75% (6/8)\u001b[K\rremote: Compressing objects:  87% (7/8)\u001b[K\rremote: Compressing objects: 100% (8/8)\u001b[K\rremote: Compressing objects: 100% (8/8), done.\u001b[K\n",
            "Receiving objects:  11% (1/9)\rReceiving objects:  22% (2/9)\rReceiving objects:  33% (3/9)\rReceiving objects:  44% (4/9)\rReceiving objects:  55% (5/9)\rremote: Total 9 (delta 2), reused 5 (delta 0), pack-reused 0 (from 0)\u001b[K\n",
            "Receiving objects:  66% (6/9)\rReceiving objects:  77% (7/9)\rReceiving objects:  88% (8/9)\rReceiving objects: 100% (9/9)\rReceiving objects: 100% (9/9), 503.12 KiB | 8.11 MiB/s, done.\n",
            "Resolving deltas:   0% (0/2)\rResolving deltas:  50% (1/2)\rResolving deltas: 100% (2/2)\rResolving deltas: 100% (2/2), done.\n",
            "financial_regression.csv  kaggle-gold-price-analysis  kaggle_gold_price_analysis.ipynb\n"
          ]
        }
      ]
    },
    {
      "cell_type": "code",
      "source": [
        "df = pd.read_csv('financial_regression.csv')"
      ],
      "metadata": {
        "id": "o-iqTL8NxhB4"
      },
      "execution_count": 13,
      "outputs": []
    },
    {
      "cell_type": "code",
      "source": [
        "display(df.head())"
      ],
      "metadata": {
        "id": "VLYn5P8qxnnw"
      },
      "execution_count": null,
      "outputs": []
    }
  ]
}